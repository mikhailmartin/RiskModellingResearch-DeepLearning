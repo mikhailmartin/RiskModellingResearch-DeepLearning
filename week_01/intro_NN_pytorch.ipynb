{
 "cells": [
  {
   "cell_type": "markdown",
   "metadata": {
    "id": "V72bLKGZwa8S"
   },
   "source": [
    "# Простейшие нейронные сети на PyTorch"
   ]
  },
  {
   "cell_type": "code",
   "execution_count": 1,
   "metadata": {
    "colab": {
     "base_uri": "https://localhost:8080/"
    },
    "id": "OMipOdkiuDxd",
    "outputId": "3f25c458-ed8c-45c1-edfc-1c6f3397ce8c"
   },
   "outputs": [],
   "source": [
    "import os\n",
    "import warnings\n",
    "warnings.filterwarnings('ignore')\n",
    "\n",
    "import matplotlib.pyplot as plt\n",
    "plt.style.use('ggplot')\n",
    "%matplotlib inline\n",
    "import numpy as np\n",
    "import pandas as pd\n",
    "pd.set_option('display.max_columns', None)\n",
    "import seaborn as sns\n",
    "\n",
    "from fastai.tabular.all import (\n",
    "    IndexSplitter,\n",
    "    TabularPandas,\n",
    "    Categorify,\n",
    "    FillMissing,\n",
    "    Normalize,\n",
    "    CategoryBlock,\n",
    "    tabular_learner,\n",
    "    accuracy,\n",
    ")\n",
    "\n",
    "from sklearn.ensemble import RandomForestClassifier\n",
    "from sklearn.linear_model import LogisticRegression\n",
    "from sklearn.metrics import accuracy_score, log_loss\n",
    "from sklearn.model_selection import train_test_split\n",
    "from sklearn.preprocessing import LabelEncoder\n",
    "from sklearn.preprocessing import StandardScaler\n",
    "\n",
    "import torch  # была версия 1.12.1+cu113\n",
    "import torch.nn as nn  # содержит функции для реалзации архитектуры нейронных сетей\n",
    "import torch.nn.functional as F  # содержит различные функции активации и не только\n",
    "import torch.optim as optim\n",
    "import torch.utils.data as data_utils\n",
    "\n",
    "from torchmetrics import Accuracy"
   ]
  },
  {
   "cell_type": "code",
   "execution_count": 2,
   "metadata": {},
   "outputs": [],
   "source": [
    "DATA_PATH = os.path.join('..', 'datasets')\n",
    "MODELS_PATH = os.path.join('..', 'models')"
   ]
  },
  {
   "cell_type": "markdown",
   "metadata": {
    "id": "px7NH3mcuDxe"
   },
   "source": [
    "## 1. О данных и бэйзлайнах\n",
    "\n",
    "Наша главная цель - познакомиться с процессом создания простой нейронной сети и ее обучения.\n",
    "\n",
    "__Делать всё это мы будем на животных.__ Ежегодно около 7.6 миллионов бедных животных в США оказываются в приютах. Часть из них находит себе новую семью, часть возвращается к старому (бывает, что питомец потерялся и его нашли на улице), а часть погибает. Ужегодно усыпляется около 2.7 млн. собак и кошек.  \n",
    "\n",
    "Используя датасет с входной информацией (цвет, пол, возраст и т.п.) из одного из приютов, мы попытаемся спрогнозировать что произойдёт с новыми животными, которые попадут в этот приют. Данные, используемые в тетрадке уже были предварительно обработаны и приведены в удобную для построения моделей форму. "
   ]
  },
  {
   "cell_type": "code",
   "execution_count": 3,
   "metadata": {
    "id": "LemYBSRD-9no"
   },
   "outputs": [
    {
     "data": {
      "text/html": [
       "<div>\n",
       "<style scoped>\n",
       "    .dataframe tbody tr th:only-of-type {\n",
       "        vertical-align: middle;\n",
       "    }\n",
       "\n",
       "    .dataframe tbody tr th {\n",
       "        vertical-align: top;\n",
       "    }\n",
       "\n",
       "    .dataframe thead th {\n",
       "        text-align: right;\n",
       "    }\n",
       "</style>\n",
       "<table border=\"1\" class=\"dataframe\">\n",
       "  <thead>\n",
       "    <tr style=\"text-align: right;\">\n",
       "      <th></th>\n",
       "      <th>IsDog</th>\n",
       "      <th>Age</th>\n",
       "      <th>HasName</th>\n",
       "      <th>NameLength</th>\n",
       "      <th>NameFreq</th>\n",
       "      <th>MixColor</th>\n",
       "      <th>ColorFreqAsIs</th>\n",
       "      <th>ColorFreqBase</th>\n",
       "      <th>TabbyColor</th>\n",
       "      <th>MixBreed</th>\n",
       "      <th>Domestic</th>\n",
       "      <th>Shorthair</th>\n",
       "      <th>Longhair</th>\n",
       "      <th>Year</th>\n",
       "      <th>Month</th>\n",
       "      <th>Day</th>\n",
       "      <th>Hour</th>\n",
       "      <th>Breed_Chihuahua Shorthair Mix</th>\n",
       "      <th>Breed_Domestic Medium Hair Mix</th>\n",
       "      <th>Breed_Domestic Shorthair Mix</th>\n",
       "      <th>Breed_German Shepherd Mix</th>\n",
       "      <th>Breed_Labrador Retriever Mix</th>\n",
       "      <th>Breed_Pit Bull Mix</th>\n",
       "      <th>Breed_Rare</th>\n",
       "      <th>Sex_Female</th>\n",
       "      <th>Sex_Male</th>\n",
       "      <th>Sex_Unknown</th>\n",
       "      <th>SexStatus_Flawed</th>\n",
       "      <th>SexStatus_Intact</th>\n",
       "      <th>SexStatus_Unknown</th>\n",
       "      <th>Weekday_0</th>\n",
       "      <th>Weekday_1</th>\n",
       "      <th>Weekday_2</th>\n",
       "      <th>Weekday_3</th>\n",
       "      <th>Weekday_4</th>\n",
       "      <th>Weekday_5</th>\n",
       "      <th>Weekday_6</th>\n",
       "      <th>target</th>\n",
       "    </tr>\n",
       "  </thead>\n",
       "  <tbody>\n",
       "    <tr>\n",
       "      <th>0</th>\n",
       "      <td>1</td>\n",
       "      <td>365.0</td>\n",
       "      <td>1</td>\n",
       "      <td>7</td>\n",
       "      <td>0.000157</td>\n",
       "      <td>1</td>\n",
       "      <td>0.032919</td>\n",
       "      <td>0.463624</td>\n",
       "      <td>0</td>\n",
       "      <td>1</td>\n",
       "      <td>0</td>\n",
       "      <td>0</td>\n",
       "      <td>0</td>\n",
       "      <td>2014</td>\n",
       "      <td>2</td>\n",
       "      <td>12</td>\n",
       "      <td>14.366667</td>\n",
       "      <td>0</td>\n",
       "      <td>0</td>\n",
       "      <td>0</td>\n",
       "      <td>0</td>\n",
       "      <td>0</td>\n",
       "      <td>0</td>\n",
       "      <td>1</td>\n",
       "      <td>0</td>\n",
       "      <td>1</td>\n",
       "      <td>0</td>\n",
       "      <td>1</td>\n",
       "      <td>0</td>\n",
       "      <td>0</td>\n",
       "      <td>0</td>\n",
       "      <td>0</td>\n",
       "      <td>1</td>\n",
       "      <td>0</td>\n",
       "      <td>0</td>\n",
       "      <td>0</td>\n",
       "      <td>0</td>\n",
       "      <td>Return_to_owner</td>\n",
       "    </tr>\n",
       "    <tr>\n",
       "      <th>1</th>\n",
       "      <td>0</td>\n",
       "      <td>365.0</td>\n",
       "      <td>1</td>\n",
       "      <td>5</td>\n",
       "      <td>0.000655</td>\n",
       "      <td>0</td>\n",
       "      <td>0.008092</td>\n",
       "      <td>0.015005</td>\n",
       "      <td>1</td>\n",
       "      <td>1</td>\n",
       "      <td>1</td>\n",
       "      <td>1</td>\n",
       "      <td>0</td>\n",
       "      <td>2013</td>\n",
       "      <td>10</td>\n",
       "      <td>13</td>\n",
       "      <td>8.733333</td>\n",
       "      <td>0</td>\n",
       "      <td>0</td>\n",
       "      <td>1</td>\n",
       "      <td>0</td>\n",
       "      <td>0</td>\n",
       "      <td>0</td>\n",
       "      <td>0</td>\n",
       "      <td>1</td>\n",
       "      <td>0</td>\n",
       "      <td>0</td>\n",
       "      <td>1</td>\n",
       "      <td>0</td>\n",
       "      <td>0</td>\n",
       "      <td>0</td>\n",
       "      <td>0</td>\n",
       "      <td>0</td>\n",
       "      <td>0</td>\n",
       "      <td>0</td>\n",
       "      <td>0</td>\n",
       "      <td>1</td>\n",
       "      <td>Euthanasia</td>\n",
       "    </tr>\n",
       "    <tr>\n",
       "      <th>2</th>\n",
       "      <td>1</td>\n",
       "      <td>730.0</td>\n",
       "      <td>1</td>\n",
       "      <td>6</td>\n",
       "      <td>0.000052</td>\n",
       "      <td>1</td>\n",
       "      <td>0.026293</td>\n",
       "      <td>0.357521</td>\n",
       "      <td>0</td>\n",
       "      <td>1</td>\n",
       "      <td>0</td>\n",
       "      <td>0</td>\n",
       "      <td>0</td>\n",
       "      <td>2015</td>\n",
       "      <td>1</td>\n",
       "      <td>31</td>\n",
       "      <td>9.466667</td>\n",
       "      <td>0</td>\n",
       "      <td>0</td>\n",
       "      <td>0</td>\n",
       "      <td>0</td>\n",
       "      <td>0</td>\n",
       "      <td>1</td>\n",
       "      <td>0</td>\n",
       "      <td>0</td>\n",
       "      <td>1</td>\n",
       "      <td>0</td>\n",
       "      <td>1</td>\n",
       "      <td>0</td>\n",
       "      <td>0</td>\n",
       "      <td>0</td>\n",
       "      <td>0</td>\n",
       "      <td>0</td>\n",
       "      <td>0</td>\n",
       "      <td>0</td>\n",
       "      <td>1</td>\n",
       "      <td>0</td>\n",
       "      <td>Adoption</td>\n",
       "    </tr>\n",
       "    <tr>\n",
       "      <th>3</th>\n",
       "      <td>0</td>\n",
       "      <td>21.0</td>\n",
       "      <td>0</td>\n",
       "      <td>7</td>\n",
       "      <td>0.285871</td>\n",
       "      <td>0</td>\n",
       "      <td>0.000471</td>\n",
       "      <td>0.058418</td>\n",
       "      <td>0</td>\n",
       "      <td>1</td>\n",
       "      <td>1</td>\n",
       "      <td>1</td>\n",
       "      <td>0</td>\n",
       "      <td>2014</td>\n",
       "      <td>7</td>\n",
       "      <td>11</td>\n",
       "      <td>15.150000</td>\n",
       "      <td>0</td>\n",
       "      <td>0</td>\n",
       "      <td>1</td>\n",
       "      <td>0</td>\n",
       "      <td>0</td>\n",
       "      <td>0</td>\n",
       "      <td>0</td>\n",
       "      <td>0</td>\n",
       "      <td>1</td>\n",
       "      <td>0</td>\n",
       "      <td>0</td>\n",
       "      <td>1</td>\n",
       "      <td>0</td>\n",
       "      <td>0</td>\n",
       "      <td>0</td>\n",
       "      <td>0</td>\n",
       "      <td>0</td>\n",
       "      <td>1</td>\n",
       "      <td>0</td>\n",
       "      <td>0</td>\n",
       "      <td>Transfer</td>\n",
       "    </tr>\n",
       "    <tr>\n",
       "      <th>4</th>\n",
       "      <td>1</td>\n",
       "      <td>730.0</td>\n",
       "      <td>0</td>\n",
       "      <td>7</td>\n",
       "      <td>0.285871</td>\n",
       "      <td>0</td>\n",
       "      <td>0.023831</td>\n",
       "      <td>0.075353</td>\n",
       "      <td>0</td>\n",
       "      <td>0</td>\n",
       "      <td>0</td>\n",
       "      <td>0</td>\n",
       "      <td>0</td>\n",
       "      <td>2013</td>\n",
       "      <td>11</td>\n",
       "      <td>15</td>\n",
       "      <td>8.866667</td>\n",
       "      <td>0</td>\n",
       "      <td>0</td>\n",
       "      <td>0</td>\n",
       "      <td>0</td>\n",
       "      <td>0</td>\n",
       "      <td>0</td>\n",
       "      <td>1</td>\n",
       "      <td>0</td>\n",
       "      <td>1</td>\n",
       "      <td>0</td>\n",
       "      <td>1</td>\n",
       "      <td>0</td>\n",
       "      <td>0</td>\n",
       "      <td>0</td>\n",
       "      <td>0</td>\n",
       "      <td>0</td>\n",
       "      <td>0</td>\n",
       "      <td>1</td>\n",
       "      <td>0</td>\n",
       "      <td>0</td>\n",
       "      <td>Transfer</td>\n",
       "    </tr>\n",
       "    <tr>\n",
       "      <th>...</th>\n",
       "      <td>...</td>\n",
       "      <td>...</td>\n",
       "      <td>...</td>\n",
       "      <td>...</td>\n",
       "      <td>...</td>\n",
       "      <td>...</td>\n",
       "      <td>...</td>\n",
       "      <td>...</td>\n",
       "      <td>...</td>\n",
       "      <td>...</td>\n",
       "      <td>...</td>\n",
       "      <td>...</td>\n",
       "      <td>...</td>\n",
       "      <td>...</td>\n",
       "      <td>...</td>\n",
       "      <td>...</td>\n",
       "      <td>...</td>\n",
       "      <td>...</td>\n",
       "      <td>...</td>\n",
       "      <td>...</td>\n",
       "      <td>...</td>\n",
       "      <td>...</td>\n",
       "      <td>...</td>\n",
       "      <td>...</td>\n",
       "      <td>...</td>\n",
       "      <td>...</td>\n",
       "      <td>...</td>\n",
       "      <td>...</td>\n",
       "      <td>...</td>\n",
       "      <td>...</td>\n",
       "      <td>...</td>\n",
       "      <td>...</td>\n",
       "      <td>...</td>\n",
       "      <td>...</td>\n",
       "      <td>...</td>\n",
       "      <td>...</td>\n",
       "      <td>...</td>\n",
       "      <td>...</td>\n",
       "    </tr>\n",
       "    <tr>\n",
       "      <th>26724</th>\n",
       "      <td>0</td>\n",
       "      <td>30.0</td>\n",
       "      <td>0</td>\n",
       "      <td>7</td>\n",
       "      <td>0.285871</td>\n",
       "      <td>1</td>\n",
       "      <td>0.034909</td>\n",
       "      <td>0.463624</td>\n",
       "      <td>1</td>\n",
       "      <td>1</td>\n",
       "      <td>1</td>\n",
       "      <td>1</td>\n",
       "      <td>0</td>\n",
       "      <td>2015</td>\n",
       "      <td>5</td>\n",
       "      <td>14</td>\n",
       "      <td>8.933333</td>\n",
       "      <td>0</td>\n",
       "      <td>0</td>\n",
       "      <td>1</td>\n",
       "      <td>0</td>\n",
       "      <td>0</td>\n",
       "      <td>0</td>\n",
       "      <td>0</td>\n",
       "      <td>0</td>\n",
       "      <td>1</td>\n",
       "      <td>0</td>\n",
       "      <td>0</td>\n",
       "      <td>1</td>\n",
       "      <td>0</td>\n",
       "      <td>0</td>\n",
       "      <td>0</td>\n",
       "      <td>0</td>\n",
       "      <td>1</td>\n",
       "      <td>0</td>\n",
       "      <td>0</td>\n",
       "      <td>0</td>\n",
       "      <td>Transfer</td>\n",
       "    </tr>\n",
       "    <tr>\n",
       "      <th>26725</th>\n",
       "      <td>0</td>\n",
       "      <td>90.0</td>\n",
       "      <td>0</td>\n",
       "      <td>7</td>\n",
       "      <td>0.285871</td>\n",
       "      <td>0</td>\n",
       "      <td>0.061778</td>\n",
       "      <td>0.164522</td>\n",
       "      <td>1</td>\n",
       "      <td>1</td>\n",
       "      <td>1</td>\n",
       "      <td>1</td>\n",
       "      <td>0</td>\n",
       "      <td>2016</td>\n",
       "      <td>1</td>\n",
       "      <td>20</td>\n",
       "      <td>15.983333</td>\n",
       "      <td>0</td>\n",
       "      <td>0</td>\n",
       "      <td>1</td>\n",
       "      <td>0</td>\n",
       "      <td>0</td>\n",
       "      <td>0</td>\n",
       "      <td>0</td>\n",
       "      <td>1</td>\n",
       "      <td>0</td>\n",
       "      <td>0</td>\n",
       "      <td>1</td>\n",
       "      <td>0</td>\n",
       "      <td>0</td>\n",
       "      <td>0</td>\n",
       "      <td>0</td>\n",
       "      <td>1</td>\n",
       "      <td>0</td>\n",
       "      <td>0</td>\n",
       "      <td>0</td>\n",
       "      <td>0</td>\n",
       "      <td>Transfer</td>\n",
       "    </tr>\n",
       "    <tr>\n",
       "      <th>26726</th>\n",
       "      <td>1</td>\n",
       "      <td>1460.0</td>\n",
       "      <td>1</td>\n",
       "      <td>4</td>\n",
       "      <td>0.001571</td>\n",
       "      <td>1</td>\n",
       "      <td>0.014587</td>\n",
       "      <td>0.374455</td>\n",
       "      <td>0</td>\n",
       "      <td>1</td>\n",
       "      <td>0</td>\n",
       "      <td>0</td>\n",
       "      <td>0</td>\n",
       "      <td>2015</td>\n",
       "      <td>3</td>\n",
       "      <td>9</td>\n",
       "      <td>10.550000</td>\n",
       "      <td>0</td>\n",
       "      <td>0</td>\n",
       "      <td>0</td>\n",
       "      <td>0</td>\n",
       "      <td>0</td>\n",
       "      <td>0</td>\n",
       "      <td>1</td>\n",
       "      <td>0</td>\n",
       "      <td>1</td>\n",
       "      <td>0</td>\n",
       "      <td>1</td>\n",
       "      <td>0</td>\n",
       "      <td>0</td>\n",
       "      <td>1</td>\n",
       "      <td>0</td>\n",
       "      <td>0</td>\n",
       "      <td>0</td>\n",
       "      <td>0</td>\n",
       "      <td>0</td>\n",
       "      <td>0</td>\n",
       "      <td>Adoption</td>\n",
       "    </tr>\n",
       "    <tr>\n",
       "      <th>26727</th>\n",
       "      <td>0</td>\n",
       "      <td>28.0</td>\n",
       "      <td>0</td>\n",
       "      <td>7</td>\n",
       "      <td>0.285871</td>\n",
       "      <td>0</td>\n",
       "      <td>0.085505</td>\n",
       "      <td>0.199270</td>\n",
       "      <td>0</td>\n",
       "      <td>1</td>\n",
       "      <td>1</td>\n",
       "      <td>1</td>\n",
       "      <td>0</td>\n",
       "      <td>2014</td>\n",
       "      <td>4</td>\n",
       "      <td>27</td>\n",
       "      <td>8.366667</td>\n",
       "      <td>0</td>\n",
       "      <td>0</td>\n",
       "      <td>1</td>\n",
       "      <td>0</td>\n",
       "      <td>0</td>\n",
       "      <td>0</td>\n",
       "      <td>0</td>\n",
       "      <td>0</td>\n",
       "      <td>1</td>\n",
       "      <td>0</td>\n",
       "      <td>0</td>\n",
       "      <td>1</td>\n",
       "      <td>0</td>\n",
       "      <td>0</td>\n",
       "      <td>0</td>\n",
       "      <td>0</td>\n",
       "      <td>0</td>\n",
       "      <td>0</td>\n",
       "      <td>0</td>\n",
       "      <td>1</td>\n",
       "      <td>Transfer</td>\n",
       "    </tr>\n",
       "    <tr>\n",
       "      <th>26728</th>\n",
       "      <td>0</td>\n",
       "      <td>365.0</td>\n",
       "      <td>0</td>\n",
       "      <td>7</td>\n",
       "      <td>0.285871</td>\n",
       "      <td>1</td>\n",
       "      <td>0.034909</td>\n",
       "      <td>0.463624</td>\n",
       "      <td>1</td>\n",
       "      <td>1</td>\n",
       "      <td>1</td>\n",
       "      <td>1</td>\n",
       "      <td>0</td>\n",
       "      <td>2015</td>\n",
       "      <td>7</td>\n",
       "      <td>2</td>\n",
       "      <td>6.000000</td>\n",
       "      <td>0</td>\n",
       "      <td>0</td>\n",
       "      <td>1</td>\n",
       "      <td>0</td>\n",
       "      <td>0</td>\n",
       "      <td>0</td>\n",
       "      <td>0</td>\n",
       "      <td>0</td>\n",
       "      <td>1</td>\n",
       "      <td>0</td>\n",
       "      <td>0</td>\n",
       "      <td>1</td>\n",
       "      <td>0</td>\n",
       "      <td>0</td>\n",
       "      <td>0</td>\n",
       "      <td>0</td>\n",
       "      <td>1</td>\n",
       "      <td>0</td>\n",
       "      <td>0</td>\n",
       "      <td>0</td>\n",
       "      <td>Transfer</td>\n",
       "    </tr>\n",
       "  </tbody>\n",
       "</table>\n",
       "<p>26729 rows × 38 columns</p>\n",
       "</div>"
      ],
      "text/plain": [
       "       IsDog     Age  HasName  NameLength  NameFreq  MixColor  ColorFreqAsIs  \\\n",
       "0          1   365.0        1           7  0.000157         1       0.032919   \n",
       "1          0   365.0        1           5  0.000655         0       0.008092   \n",
       "2          1   730.0        1           6  0.000052         1       0.026293   \n",
       "3          0    21.0        0           7  0.285871         0       0.000471   \n",
       "4          1   730.0        0           7  0.285871         0       0.023831   \n",
       "...      ...     ...      ...         ...       ...       ...            ...   \n",
       "26724      0    30.0        0           7  0.285871         1       0.034909   \n",
       "26725      0    90.0        0           7  0.285871         0       0.061778   \n",
       "26726      1  1460.0        1           4  0.001571         1       0.014587   \n",
       "26727      0    28.0        0           7  0.285871         0       0.085505   \n",
       "26728      0   365.0        0           7  0.285871         1       0.034909   \n",
       "\n",
       "       ColorFreqBase  TabbyColor  MixBreed  Domestic  Shorthair  Longhair  \\\n",
       "0           0.463624           0         1         0          0         0   \n",
       "1           0.015005           1         1         1          1         0   \n",
       "2           0.357521           0         1         0          0         0   \n",
       "3           0.058418           0         1         1          1         0   \n",
       "4           0.075353           0         0         0          0         0   \n",
       "...              ...         ...       ...       ...        ...       ...   \n",
       "26724       0.463624           1         1         1          1         0   \n",
       "26725       0.164522           1         1         1          1         0   \n",
       "26726       0.374455           0         1         0          0         0   \n",
       "26727       0.199270           0         1         1          1         0   \n",
       "26728       0.463624           1         1         1          1         0   \n",
       "\n",
       "       Year  Month  Day       Hour  Breed_Chihuahua Shorthair Mix  \\\n",
       "0      2014      2   12  14.366667                              0   \n",
       "1      2013     10   13   8.733333                              0   \n",
       "2      2015      1   31   9.466667                              0   \n",
       "3      2014      7   11  15.150000                              0   \n",
       "4      2013     11   15   8.866667                              0   \n",
       "...     ...    ...  ...        ...                            ...   \n",
       "26724  2015      5   14   8.933333                              0   \n",
       "26725  2016      1   20  15.983333                              0   \n",
       "26726  2015      3    9  10.550000                              0   \n",
       "26727  2014      4   27   8.366667                              0   \n",
       "26728  2015      7    2   6.000000                              0   \n",
       "\n",
       "       Breed_Domestic Medium Hair Mix  Breed_Domestic Shorthair Mix  \\\n",
       "0                                   0                             0   \n",
       "1                                   0                             1   \n",
       "2                                   0                             0   \n",
       "3                                   0                             1   \n",
       "4                                   0                             0   \n",
       "...                               ...                           ...   \n",
       "26724                               0                             1   \n",
       "26725                               0                             1   \n",
       "26726                               0                             0   \n",
       "26727                               0                             1   \n",
       "26728                               0                             1   \n",
       "\n",
       "       Breed_German Shepherd Mix  Breed_Labrador Retriever Mix  \\\n",
       "0                              0                             0   \n",
       "1                              0                             0   \n",
       "2                              0                             0   \n",
       "3                              0                             0   \n",
       "4                              0                             0   \n",
       "...                          ...                           ...   \n",
       "26724                          0                             0   \n",
       "26725                          0                             0   \n",
       "26726                          0                             0   \n",
       "26727                          0                             0   \n",
       "26728                          0                             0   \n",
       "\n",
       "       Breed_Pit Bull Mix  Breed_Rare  Sex_Female  Sex_Male  Sex_Unknown  \\\n",
       "0                       0           1           0         1            0   \n",
       "1                       0           0           1         0            0   \n",
       "2                       1           0           0         1            0   \n",
       "3                       0           0           0         1            0   \n",
       "4                       0           1           0         1            0   \n",
       "...                   ...         ...         ...       ...          ...   \n",
       "26724                   0           0           0         1            0   \n",
       "26725                   0           0           1         0            0   \n",
       "26726                   0           1           0         1            0   \n",
       "26727                   0           0           0         1            0   \n",
       "26728                   0           0           0         1            0   \n",
       "\n",
       "       SexStatus_Flawed  SexStatus_Intact  SexStatus_Unknown  Weekday_0  \\\n",
       "0                     1                 0                  0          0   \n",
       "1                     1                 0                  0          0   \n",
       "2                     1                 0                  0          0   \n",
       "3                     0                 1                  0          0   \n",
       "4                     1                 0                  0          0   \n",
       "...                 ...               ...                ...        ...   \n",
       "26724                 0                 1                  0          0   \n",
       "26725                 1                 0                  0          0   \n",
       "26726                 1                 0                  0          1   \n",
       "26727                 0                 1                  0          0   \n",
       "26728                 0                 1                  0          0   \n",
       "\n",
       "       Weekday_1  Weekday_2  Weekday_3  Weekday_4  Weekday_5  Weekday_6  \\\n",
       "0              0          1          0          0          0          0   \n",
       "1              0          0          0          0          0          1   \n",
       "2              0          0          0          0          1          0   \n",
       "3              0          0          0          1          0          0   \n",
       "4              0          0          0          1          0          0   \n",
       "...          ...        ...        ...        ...        ...        ...   \n",
       "26724          0          0          1          0          0          0   \n",
       "26725          0          1          0          0          0          0   \n",
       "26726          0          0          0          0          0          0   \n",
       "26727          0          0          0          0          0          1   \n",
       "26728          0          0          1          0          0          0   \n",
       "\n",
       "                target  \n",
       "0      Return_to_owner  \n",
       "1           Euthanasia  \n",
       "2             Adoption  \n",
       "3             Transfer  \n",
       "4             Transfer  \n",
       "...                ...  \n",
       "26724         Transfer  \n",
       "26725         Transfer  \n",
       "26726         Adoption  \n",
       "26727         Transfer  \n",
       "26728         Transfer  \n",
       "\n",
       "[26729 rows x 38 columns]"
      ]
     },
     "execution_count": 3,
     "metadata": {},
     "output_type": "execute_result"
    }
   ],
   "source": [
    "animals = pd.read_csv(os.path.join(DATA_PATH, 'animals.csv'), sep='\\t')\n",
    "animals"
   ]
  },
  {
   "cell_type": "markdown",
   "metadata": {
    "id": "vJhoFCiruDxg"
   },
   "source": [
    "В датасете находится около 27 тысяч наблюдений и 39 регрессоров. Посмотрим на то как выглядит распределение того, что произошло со зверятами по особям."
   ]
  },
  {
   "cell_type": "code",
   "execution_count": 4,
   "metadata": {
    "colab": {
     "base_uri": "https://localhost:8080/"
    },
    "id": "QMMUgau-uDxg",
    "outputId": "832b8edb-aca6-4fd1-c43f-a5ac515a5093"
   },
   "outputs": [
    {
     "data": {
      "text/plain": [
       "target\n",
       "Adoption           10769\n",
       "Transfer            9422\n",
       "Return_to_owner     4786\n",
       "Euthanasia          1555\n",
       "Died                 197\n",
       "Name: count, dtype: int64"
      ]
     },
     "execution_count": 4,
     "metadata": {},
     "output_type": "execute_result"
    }
   ],
   "source": [
    "animals.target.value_counts()"
   ]
  },
  {
   "cell_type": "markdown",
   "metadata": {
    "id": "xgHgsw1HuDxg"
   },
   "source": [
    "Видим, что классы несбалансированы. Попробуем оставит четыре класса и объединить класс умерших животных с классом животных, которых усыпили. "
   ]
  },
  {
   "cell_type": "code",
   "execution_count": 5,
   "metadata": {
    "id": "T2x5uK64uDxh"
   },
   "outputs": [],
   "source": [
    "animals.loc[animals.target == 'Died', 'target'] = 'Euthanasia'"
   ]
  },
  {
   "cell_type": "markdown",
   "metadata": {
    "id": "AEqSUzcVuDxh"
   },
   "source": [
    "Закодируем классы."
   ]
  },
  {
   "cell_type": "code",
   "execution_count": 6,
   "metadata": {
    "colab": {
     "base_uri": "https://localhost:8080/"
    },
    "id": "gBkDDnd7uDxh",
    "outputId": "f6db30f9-d7cc-4ddc-8a15-4c43abc33544"
   },
   "outputs": [
    {
     "data": {
      "text/plain": [
       "0        2\n",
       "1        1\n",
       "2        0\n",
       "3        3\n",
       "4        3\n",
       "        ..\n",
       "26724    3\n",
       "26725    3\n",
       "26726    0\n",
       "26727    3\n",
       "26728    3\n",
       "Name: target, Length: 26729, dtype: int32"
      ]
     },
     "execution_count": 6,
     "metadata": {},
     "output_type": "execute_result"
    }
   ],
   "source": [
    "le = LabelEncoder()\n",
    "animals['target'] = le.fit_transform(animals['target'])\n",
    "animals['target']"
   ]
  },
  {
   "cell_type": "code",
   "execution_count": 7,
   "metadata": {
    "colab": {
     "base_uri": "https://localhost:8080/"
    },
    "id": "TR2b9_7Z75nc",
    "outputId": "f27f5400-53e4-40d6-a0a7-990a541dc2d3"
   },
   "outputs": [
    {
     "data": {
      "text/plain": [
       "target\n",
       "0    10769\n",
       "3     9422\n",
       "2     4786\n",
       "1     1752\n",
       "Name: count, dtype: int64"
      ]
     },
     "execution_count": 7,
     "metadata": {},
     "output_type": "execute_result"
    }
   ],
   "source": [
    "animals.target.value_counts()"
   ]
  },
  {
   "cell_type": "code",
   "execution_count": 8,
   "metadata": {
    "colab": {
     "base_uri": "https://localhost:8080/"
    },
    "id": "9y5pYULmuDxi",
    "outputId": "497b70a4-176c-45e1-c760-11c74de3c174"
   },
   "outputs": [
    {
     "data": {
      "text/plain": [
       "26729"
      ]
     },
     "execution_count": 8,
     "metadata": {},
     "output_type": "execute_result"
    }
   ],
   "source": [
    "len(animals['target'])"
   ]
  },
  {
   "cell_type": "code",
   "execution_count": 9,
   "metadata": {
    "colab": {
     "base_uri": "https://localhost:8080/"
    },
    "id": "iZ3DaFuBuDxi",
    "outputId": "c28690da-3584-4d83-99af-a039c25874a4"
   },
   "outputs": [
    {
     "data": {
      "text/plain": [
       "(26729, 38)"
      ]
     },
     "execution_count": 9,
     "metadata": {},
     "output_type": "execute_result"
    }
   ],
   "source": [
    "animals.shape"
   ]
  },
  {
   "cell_type": "markdown",
   "metadata": {
    "id": "oRZbRjnfuDxi"
   },
   "source": [
    "Разобьём выборку на тренировочную и тестовую. "
   ]
  },
  {
   "cell_type": "code",
   "execution_count": 10,
   "metadata": {
    "id": "sfnRs01r_p8a"
   },
   "outputs": [],
   "source": [
    "X = animals.drop('target', axis=1)\n",
    "y = animals['target']"
   ]
  },
  {
   "cell_type": "code",
   "execution_count": 11,
   "metadata": {
    "colab": {
     "base_uri": "https://localhost:8080/"
    },
    "id": "eKJ2YYSYuDxi",
    "outputId": "962504a4-39bb-48f4-d968-5aa5fd675439"
   },
   "outputs": [
    {
     "name": "stdout",
     "output_type": "stream",
     "text": [
      "(21383, 37)\n",
      "(5346, 37)\n"
     ]
    }
   ],
   "source": [
    "X_train, X_test, y_train, y_test = train_test_split(X, y, test_size=.2, stratify=y, random_state=42)\n",
    "\n",
    "print(X_train.shape)\n",
    "print(X_test.shape)"
   ]
  },
  {
   "cell_type": "markdown",
   "metadata": {
    "id": "hNCxTB40uDxj"
   },
   "source": [
    "Прежде, чем учить больших монстров, давайте построим какие-нибудь простые прогнозы, чтобы было с чем сравнить. Давайте построим наивный прогноз, а также обучим линейную регрессию и случайный лес.\n",
    "\n",
    "### Константный прогноз\n",
    "\n",
    "Построим константный прогноз, чтобы было с чем сравнивать и прогноз по какой-нибудь модели. "
   ]
  },
  {
   "cell_type": "code",
   "execution_count": 12,
   "metadata": {
    "colab": {
     "base_uri": "https://localhost:8080/"
    },
    "id": "KzY23JhXuDxj",
    "outputId": "f691bd08-8ae9-4f1d-f2d4-e65e27598362"
   },
   "outputs": [
    {
     "data": {
      "text/plain": [
       "array([0.40289015, 0.0655661 , 0.17906748, 0.35247627])"
      ]
     },
     "execution_count": 12,
     "metadata": {},
     "output_type": "execute_result"
    }
   ],
   "source": [
    "probas = np.array(y_train.value_counts(normalize=True).sort_index())\n",
    "probas"
   ]
  },
  {
   "cell_type": "code",
   "execution_count": 13,
   "metadata": {
    "colab": {
     "base_uri": "https://localhost:8080/"
    },
    "id": "hR2lsTr9uDxj",
    "outputId": "c13a36d7-3694-44b4-b97b-fa410c25fb0d"
   },
   "outputs": [
    {
     "name": "stdout",
     "output_type": "stream",
     "text": [
      "Train: 1.2205\n",
      "Test: 1.2203\n"
     ]
    }
   ],
   "source": [
    "# Посмотрим метрику на трейне и тесте\n",
    "print(\n",
    "    f'Train: {round(log_loss(y_train, np.tile(probas, X_train.shape[0]).reshape(-1, 4)), 4)}\\n'\n",
    "    f'Test: {round(log_loss(y_test, np.tile(probas, X_test.shape[0]).reshape(-1, 4)), 4)}'\n",
    ")"
   ]
  },
  {
   "cell_type": "code",
   "execution_count": 14,
   "metadata": {
    "colab": {
     "base_uri": "https://localhost:8080/"
    },
    "id": "Fc5dkxeZ0JDN",
    "outputId": "725e6cc6-e1d9-452b-8867-13a816809657"
   },
   "outputs": [
    {
     "name": "stdout",
     "output_type": "stream",
     "text": [
      "Train: 0.4029\n",
      "Test: 0.4029\n"
     ]
    }
   ],
   "source": [
    "# Посмотрим точность на трейне и тесте\n",
    "print(\n",
    "    f'Train: {round(accuracy_score(y_train, np.tile(np.argmax(probas), X_train.shape[0])), 4)}\\n'\n",
    "    f'Test: {round(accuracy_score(y_test, np.tile(np.argmax(probas), X_test.shape[0])), 4)}'\n",
    ")"
   ]
  },
  {
   "cell_type": "markdown",
   "metadata": {
    "id": "d1qAPw0suDxk"
   },
   "source": [
    "### Логистическая регрессия"
   ]
  },
  {
   "cell_type": "code",
   "execution_count": 15,
   "metadata": {
    "colab": {
     "base_uri": "https://localhost:8080/"
    },
    "id": "-S23KmU_uDxk",
    "outputId": "fbf54190-f453-4769-e0a6-127d250b23b0"
   },
   "outputs": [
    {
     "name": "stdout",
     "output_type": "stream",
     "text": [
      "Train: 1.0647\n",
      "Test: 1.0691\n"
     ]
    }
   ],
   "source": [
    "logreg = LogisticRegression( )\n",
    "\n",
    "# Обучим на трейне\n",
    "logreg.fit(X_train, y_train)\n",
    "\n",
    "# Посмотрим метрику на трейне и тесте\n",
    "print(\n",
    "    f'Train: {round(log_loss(y_train, logreg.predict_proba(X_train)), 4)}\\n'\n",
    "    f'Test: {round(log_loss(y_test, logreg.predict_proba(X_test)), 4)}'\n",
    ")"
   ]
  },
  {
   "cell_type": "code",
   "execution_count": 16,
   "metadata": {
    "colab": {
     "base_uri": "https://localhost:8080/"
    },
    "id": "RlqC1zoF01Uq",
    "outputId": "8d7e97a6-4c18-43fe-8abe-0aa0a4d4ba44"
   },
   "outputs": [
    {
     "data": {
      "text/plain": [
       "array([3, 3, 0, ..., 3, 3, 0], dtype=int64)"
      ]
     },
     "execution_count": 16,
     "metadata": {},
     "output_type": "execute_result"
    }
   ],
   "source": [
    "np.argmax(logreg.predict_proba(X_train), axis=1)"
   ]
  },
  {
   "cell_type": "code",
   "execution_count": 17,
   "metadata": {
    "colab": {
     "base_uri": "https://localhost:8080/"
    },
    "id": "XwBsY9SE0qPC",
    "outputId": "766b6723-22ff-4400-fbaf-47e3f79fdc91"
   },
   "outputs": [
    {
     "name": "stdout",
     "output_type": "stream",
     "text": [
      "Train: 0.5528\n",
      "Test: 0.5529\n"
     ]
    }
   ],
   "source": [
    "# Посмотрим точность на трейне и тесте\n",
    "print(\n",
    "    f'Train: {round(accuracy_score(y_train, np.argmax(logreg.predict_proba(X_train), axis=1)), 4)}\\n'\n",
    "    f'Test: {round(accuracy_score(y_test, np.argmax(logreg.predict_proba(X_test), axis=1)), 4)}'\n",
    ")"
   ]
  },
  {
   "cell_type": "code",
   "execution_count": 18,
   "metadata": {
    "colab": {
     "base_uri": "https://localhost:8080/"
    },
    "id": "63qOnhM-uDxk",
    "outputId": "0c768375-c344-417a-cd08-082f1ac2910e"
   },
   "outputs": [
    {
     "data": {
      "text/plain": [
       "array([[0.18708141, 0.06705947, 0.0465388 , 0.69932032],\n",
       "       [0.71547741, 0.02923722, 0.10843421, 0.14685116],\n",
       "       [0.52377734, 0.03810261, 0.18067783, 0.25744222],\n",
       "       ...,\n",
       "       [0.77510797, 0.01025086, 0.17601267, 0.0386285 ],\n",
       "       [0.22847277, 0.05774786, 0.03826855, 0.67551082],\n",
       "       [0.66540032, 0.03012532, 0.12082906, 0.1836453 ]])"
      ]
     },
     "execution_count": 18,
     "metadata": {},
     "output_type": "execute_result"
    }
   ],
   "source": [
    "logreg.predict_proba(X_test)  # 4 колонки, по одной на каждый класс"
   ]
  },
  {
   "cell_type": "markdown",
   "metadata": {
    "id": "sKFIczCvuDxk"
   },
   "source": [
    "### Случайный лес "
   ]
  },
  {
   "cell_type": "code",
   "execution_count": 19,
   "metadata": {
    "colab": {
     "base_uri": "https://localhost:8080/"
    },
    "id": "eUDh2xgeuDxl",
    "outputId": "ebf9d1b7-e5c4-41c2-9a20-1a8bb08c628b",
    "scrolled": true
   },
   "outputs": [
    {
     "name": "stdout",
     "output_type": "stream",
     "text": [
      "Train: 0.1819\n",
      "Test: 0.7682\n"
     ]
    }
   ],
   "source": [
    "rf = RandomForestClassifier(n_estimators=1000, n_jobs=3)\n",
    "\n",
    "# Обучим на тесте\n",
    "rf.fit(X_train, y_train)\n",
    "\n",
    "# Посмотрим метрику на трейне и тесте\n",
    "print(\n",
    "    f'Train: {round(log_loss(y_train, rf.predict_proba(X_train)), 4)}\\n'\n",
    "    f'Test: {round(log_loss(y_test, rf.predict_proba(X_test)), 4)}'\n",
    ")"
   ]
  },
  {
   "cell_type": "code",
   "execution_count": 20,
   "metadata": {
    "colab": {
     "base_uri": "https://localhost:8080/"
    },
    "id": "YbGyNzEL1HwA",
    "outputId": "182b0b00-83c1-45a9-a94b-4d8b9966624f"
   },
   "outputs": [
    {
     "name": "stdout",
     "output_type": "stream",
     "text": [
      "Train: 1.0\n",
      "Test: 0.6923\n"
     ]
    }
   ],
   "source": [
    "# Посмотрим точность на трейне и тесте\n",
    "print(\n",
    "    f'Train: {round(accuracy_score(y_train, np.argmax(rf.predict_proba(X_train), axis=1)), 4)}\\n'\n",
    "    f'Test: {round(accuracy_score(y_test, np.argmax(rf.predict_proba(X_test), axis=1)), 4)}'\n",
    ")"
   ]
  },
  {
   "cell_type": "markdown",
   "metadata": {
    "id": "pbEv_bvruDxl"
   },
   "source": [
    "Неплохой результат. Попробуем улучшить его с помощью нейросеток. "
   ]
  },
  {
   "cell_type": "markdown",
   "metadata": {
    "id": "3z0rwi2WuDxl"
   },
   "source": [
    "## 2. Собираем свою нейросеть"
   ]
  },
  {
   "cell_type": "markdown",
   "metadata": {
    "id": "QiTX0GbpuDxl"
   },
   "source": [
    "# Пример библиотеки использования верхнеуровневого API"
   ]
  },
  {
   "cell_type": "markdown",
   "metadata": {
    "id": "U7vk20ocuDxm"
   },
   "source": [
    "# FAST.AI"
   ]
  },
  {
   "cell_type": "markdown",
   "metadata": {
    "id": "gVyStBrVuDxm"
   },
   "source": [
    "Загрузим датасет, где необходимо предсказать, будет ли человек зарабатывать больше $50K в год."
   ]
  },
  {
   "cell_type": "code",
   "execution_count": 21,
   "metadata": {
    "id": "OA3YZubSIU8s"
   },
   "outputs": [],
   "source": [
    "cat_names = [\n",
    "    'IsDog',\n",
    "    'HasName',\n",
    "    'MixColor',\n",
    "    'TabbyColor',\n",
    "    'MixBreed',\n",
    "    'Domestic',\n",
    "    'Shorthair',\n",
    "    'Longhair',\n",
    "    'Breed_Chihuahua Shorthair Mix',\n",
    "    'Breed_Domestic Medium Hair Mix',\n",
    "    'Breed_Domestic Shorthair Mix',\n",
    "    'Breed_German Shepherd Mix',\n",
    "    'Breed_Labrador Retriever Mix',\n",
    "    'Breed_Pit Bull Mix',\n",
    "    'Breed_Rare',\n",
    "    'Sex_Female',\n",
    "    'Sex_Male',\n",
    "    'Sex_Unknown',\n",
    "    'SexStatus_Flawed',\n",
    "    'SexStatus_Intact',\n",
    "    'SexStatus_Unknown',\n",
    "    'Weekday_0',\n",
    "    'Weekday_1',\n",
    "    'Weekday_2',\n",
    "    'Weekday_3',\n",
    "    'Weekday_4',\n",
    "    'Weekday_5',\n",
    "    'Weekday_6',\n",
    "]"
   ]
  },
  {
   "cell_type": "code",
   "execution_count": 22,
   "metadata": {
    "id": "pja6_ocYIlOl"
   },
   "outputs": [],
   "source": [
    "cont_names = ['Age', 'ColorFreqAsIs', 'ColorFreqBase', 'Year', 'Month', 'Day', 'Hour']"
   ]
  },
  {
   "cell_type": "code",
   "execution_count": 23,
   "metadata": {
    "id": "UY8Hb-KquDxn"
   },
   "outputs": [],
   "source": [
    "splitter = IndexSplitter(X_train.index)\n",
    "splits = splitter(animals)"
   ]
  },
  {
   "cell_type": "code",
   "execution_count": 24,
   "metadata": {
    "id": "hWi6ZECjuDxo"
   },
   "outputs": [],
   "source": [
    "tab_data = TabularPandas(\n",
    "    animals,\n",
    "    procs=[Categorify, FillMissing, Normalize],\n",
    "    cat_names=cat_names,\n",
    "    cont_names=cont_names,\n",
    "    y_names='target',\n",
    "    y_block=CategoryBlock,\n",
    "    splits=splits,\n",
    ")"
   ]
  },
  {
   "cell_type": "code",
   "execution_count": 25,
   "metadata": {
    "id": "laCxt2J0uDxo"
   },
   "outputs": [],
   "source": [
    "dataloader = tab_data.dataloaders(bs=128)"
   ]
  },
  {
   "cell_type": "code",
   "execution_count": 26,
   "metadata": {
    "id": "lYSCoBMEuDxp"
   },
   "outputs": [],
   "source": [
    "learn = tabular_learner(dataloader, metrics=accuracy)"
   ]
  },
  {
   "cell_type": "code",
   "execution_count": 27,
   "metadata": {
    "colab": {
     "base_uri": "https://localhost:8080/",
     "height": 363
    },
    "id": "IY_1iHv_uDxp",
    "outputId": "a2c70d54-538a-4339-e33c-5715a8a797ba"
   },
   "outputs": [
    {
     "data": {
      "text/html": [
       "\n",
       "<style>\n",
       "    /* Turns off some styling */\n",
       "    progress {\n",
       "        /* gets rid of default border in Firefox and Opera. */\n",
       "        border: none;\n",
       "        /* Needs to be in here for Safari polyfill so background images work as expected. */\n",
       "        background-size: auto;\n",
       "    }\n",
       "    progress:not([value]), progress:not([value])::-webkit-progress-bar {\n",
       "        background: repeating-linear-gradient(45deg, #7e7e7e, #7e7e7e 10px, #5c5c5c 10px, #5c5c5c 20px);\n",
       "    }\n",
       "    .progress-bar-interrupted, .progress-bar-interrupted::-webkit-progress-bar {\n",
       "        background: #F44336;\n",
       "    }\n",
       "</style>\n"
      ],
      "text/plain": [
       "<IPython.core.display.HTML object>"
      ]
     },
     "metadata": {},
     "output_type": "display_data"
    },
    {
     "data": {
      "text/html": [
       "<table border=\"1\" class=\"dataframe\">\n",
       "  <thead>\n",
       "    <tr style=\"text-align: left;\">\n",
       "      <th>epoch</th>\n",
       "      <th>train_loss</th>\n",
       "      <th>valid_loss</th>\n",
       "      <th>accuracy</th>\n",
       "      <th>time</th>\n",
       "    </tr>\n",
       "  </thead>\n",
       "  <tbody>\n",
       "    <tr>\n",
       "      <td>0</td>\n",
       "      <td>1.361410</td>\n",
       "      <td>1.283803</td>\n",
       "      <td>0.475097</td>\n",
       "      <td>00:04</td>\n",
       "    </tr>\n",
       "    <tr>\n",
       "      <td>1</td>\n",
       "      <td>1.259264</td>\n",
       "      <td>1.099453</td>\n",
       "      <td>0.587008</td>\n",
       "      <td>00:04</td>\n",
       "    </tr>\n",
       "    <tr>\n",
       "      <td>2</td>\n",
       "      <td>1.077320</td>\n",
       "      <td>0.912498</td>\n",
       "      <td>0.641397</td>\n",
       "      <td>00:04</td>\n",
       "    </tr>\n",
       "    <tr>\n",
       "      <td>3</td>\n",
       "      <td>0.966123</td>\n",
       "      <td>0.894187</td>\n",
       "      <td>0.634382</td>\n",
       "      <td>00:04</td>\n",
       "    </tr>\n",
       "    <tr>\n",
       "      <td>4</td>\n",
       "      <td>0.894704</td>\n",
       "      <td>0.855722</td>\n",
       "      <td>0.644671</td>\n",
       "      <td>00:04</td>\n",
       "    </tr>\n",
       "    <tr>\n",
       "      <td>5</td>\n",
       "      <td>0.842311</td>\n",
       "      <td>0.844196</td>\n",
       "      <td>0.651733</td>\n",
       "      <td>00:04</td>\n",
       "    </tr>\n",
       "    <tr>\n",
       "      <td>6</td>\n",
       "      <td>0.806400</td>\n",
       "      <td>0.834993</td>\n",
       "      <td>0.652341</td>\n",
       "      <td>00:04</td>\n",
       "    </tr>\n",
       "    <tr>\n",
       "      <td>7</td>\n",
       "      <td>0.776550</td>\n",
       "      <td>0.830783</td>\n",
       "      <td>0.652621</td>\n",
       "      <td>00:04</td>\n",
       "    </tr>\n",
       "    <tr>\n",
       "      <td>8</td>\n",
       "      <td>0.754225</td>\n",
       "      <td>0.828626</td>\n",
       "      <td>0.652949</td>\n",
       "      <td>00:04</td>\n",
       "    </tr>\n",
       "    <tr>\n",
       "      <td>9</td>\n",
       "      <td>0.741666</td>\n",
       "      <td>0.828935</td>\n",
       "      <td>0.652387</td>\n",
       "      <td>00:04</td>\n",
       "    </tr>\n",
       "  </tbody>\n",
       "</table>"
      ],
      "text/plain": [
       "<IPython.core.display.HTML object>"
      ]
     },
     "metadata": {},
     "output_type": "display_data"
    }
   ],
   "source": [
    "learn.fit_one_cycle(10)"
   ]
  },
  {
   "cell_type": "markdown",
   "metadata": {
    "id": "1LJlyTSmuDxq"
   },
   "source": [
    "# Vanilla PyTorch"
   ]
  },
  {
   "cell_type": "code",
   "execution_count": 28,
   "metadata": {
    "id": "fa-YiN-auDxl"
   },
   "outputs": [],
   "source": [
    "INPUT_SIZE = 37\n",
    "HIDDEN_SIZE = 25\n",
    "OUTPUT_SIZE = 4\n",
    "LEARNING_RATE = 1e-3\n",
    "EPOCHS = 100\n",
    "BATCH_SIZE = 128"
   ]
  },
  {
   "cell_type": "markdown",
   "metadata": {
    "id": "PzDUxKRnuDxq"
   },
   "source": [
    "Код представленный выше от fastai значительно упрощает работу с нейронными сетями, но не дает понять, что же происходит на самом деле. Поэтому на первых порах лучше все писать самим. Для этого обратимся к первоисточнику, а именно к оригинальному PyTorch, с которого все началось. И для начала разберем все этапы работы с нейронной сети в упрощенной форме. "
   ]
  },
  {
   "cell_type": "markdown",
   "metadata": {
    "id": "08y2w7cuuDxr"
   },
   "source": [
    "Для того чтобы подавать данные в нейронную сеть, создадим `DataLoader`, который предоставляет гибкий API для работы с входными данными."
   ]
  },
  {
   "cell_type": "markdown",
   "metadata": {
    "id": "FCqF3N4UuDxs"
   },
   "source": [
    "Создание __DataLoader__ для обучения сети"
   ]
  },
  {
   "cell_type": "code",
   "execution_count": 29,
   "metadata": {
    "id": "W9TWMcnjuDxs"
   },
   "outputs": [],
   "source": [
    "def create_data_loader(X_train, y_train, X_test, y_test):\n",
    "\n",
    "    train_tensor = data_utils.TensorDataset(\n",
    "        torch.tensor(X_train.astype(np.float32)),\n",
    "        torch.tensor(y_train.astype(np.int64)),\n",
    "    )\n",
    "    train_loader = data_utils.DataLoader(\n",
    "        dataset=train_tensor,\n",
    "        batch_size=BATCH_SIZE,\n",
    "        shuffle=True,\n",
    "    )\n",
    "\n",
    "    test_tensor = data_utils.TensorDataset(\n",
    "        torch.tensor(X_test.astype(np.float32)),\n",
    "        torch.tensor(y_test.astype(np.int64)),\n",
    "    )\n",
    "    test_loader = data_utils.DataLoader(\n",
    "        dataset=test_tensor,\n",
    "        batch_size=BATCH_SIZE,\n",
    "        shuffle=False,\n",
    "    )\n",
    "\n",
    "    return train_loader, test_loader"
   ]
  },
  {
   "cell_type": "code",
   "execution_count": 30,
   "metadata": {
    "id": "dUIXuVoAVELO"
   },
   "outputs": [],
   "source": [
    "# sc = StandardScaler()\n",
    "# sc.fit(X_train.values)"
   ]
  },
  {
   "cell_type": "code",
   "execution_count": 31,
   "metadata": {
    "id": "w4gZWweDuDxs"
   },
   "outputs": [],
   "source": [
    "train_loader, test_loader = create_data_loader(X_train.values, y_train.values, X_test.values, y_test.values)"
   ]
  },
  {
   "cell_type": "markdown",
   "metadata": {
    "id": "Ye2i3uleuDxs"
   },
   "source": [
    "__Архитектура модели__"
   ]
  },
  {
   "cell_type": "markdown",
   "metadata": {
    "id": "or2U3EpAuDxs"
   },
   "source": [
    "Архитектуру нейронной сети в PyTorch можно описать нескольками способами, в дальнейшем мы рассмотрим их более подробно. Сейчас предлагается сделать это используя `Sequential`.\n",
    "`Sequential` -- это последовательный способ объявления каждой компоненты архитектуры нейронной сети."
   ]
  },
  {
   "cell_type": "code",
   "execution_count": 32,
   "metadata": {
    "id": "ZQWHF8-fuDxs"
   },
   "outputs": [],
   "source": [
    "def build_simple_model():\n",
    "\n",
    "    # Sequential - наборс последовательных слоёв\n",
    "    model = nn.Sequential(\n",
    "        # Добавляем в нашу модель первый слой из 25 нейронов\n",
    "        nn.Linear(in_features=INPUT_SIZE, out_features=HIDDEN_SIZE),\n",
    "        nn.Sigmoid(),\n",
    "\n",
    "        # Добавляем ещё один слой из 25 нейронов\n",
    "        nn.Linear(in_features=HIDDEN_SIZE, out_features=HIDDEN_SIZE),\n",
    "        nn.Sigmoid(),\n",
    "\n",
    "        # Выходной вектор на количество классов, получаем с помощью такого же линейного приеобразования,\n",
    "        # как и предыдущие слои, но уже на нужное количество выходных нейронов (т.е. классов)\n",
    "        nn.Linear(in_features=HIDDEN_SIZE, out_features=OUTPUT_SIZE),\n",
    "        nn.Softmax(),\n",
    "    )\n",
    "\n",
    "    return model"
   ]
  },
  {
   "cell_type": "code",
   "execution_count": 33,
   "metadata": {
    "id": "4b-6Jb6ouDxt"
   },
   "outputs": [],
   "source": [
    "model = build_simple_model()"
   ]
  },
  {
   "cell_type": "code",
   "execution_count": 34,
   "metadata": {
    "colab": {
     "base_uri": "https://localhost:8080/"
    },
    "id": "6egqtRhguDxt",
    "outputId": "4d29d52d-751a-4cbc-96f9-bab2d372391d"
   },
   "outputs": [
    {
     "name": "stdout",
     "output_type": "stream",
     "text": [
      "Sequential(\n",
      "  (0): Linear(in_features=37, out_features=25, bias=True)\n",
      "  (1): Sigmoid()\n",
      "  (2): Linear(in_features=25, out_features=25, bias=True)\n",
      "  (3): Sigmoid()\n",
      "  (4): Linear(in_features=25, out_features=4, bias=True)\n",
      "  (5): Softmax(dim=None)\n",
      ")\n"
     ]
    }
   ],
   "source": [
    "print(model)"
   ]
  },
  {
   "cell_type": "markdown",
   "metadata": {
    "id": "W0fomrTZuDxt"
   },
   "source": [
    "Обратите внимание, что последняя функция в в архитектуре сети -- это `Softmax`. Напомним, что `Softamx` используется для задачи классификации, чтобы получить значение увернности сети по каждому классу. Получается вектор на заданное количество классов, где наибольшее значение в какой-либо координате говорит о том, что сеть считает данный класс наиболее подходящим для данного наблюдения."
   ]
  },
  {
   "cell_type": "markdown",
   "metadata": {
    "id": "f5JqUm-huDxt"
   },
   "source": [
    "Отлично! Только что мы собрали свою первую нейросеть со скрытым слоем. Осталось ее обучить."
   ]
  },
  {
   "cell_type": "markdown",
   "metadata": {
    "id": "jcDXrD0quDxt"
   },
   "source": [
    "__Обучение модели__"
   ]
  },
  {
   "cell_type": "markdown",
   "metadata": {
    "id": "gN2AES7ouDxt"
   },
   "source": [
    "Перед тем как обучать нашу нейросеть, нужно задать параметры обучения. \n",
    "- Во-первых, метод оптимизации. \n",
    "- Во-вторых, функцию потерь. \n",
    "- В-третьих, парочку метрик, на которые нам хотелось бы смотреть в процессе обучения.  "
   ]
  },
  {
   "cell_type": "code",
   "execution_count": 35,
   "metadata": {},
   "outputs": [
    {
     "data": {
      "text/plain": [
       "target\n",
       "0    8615\n",
       "3    7537\n",
       "2    3829\n",
       "1    1402\n",
       "Name: count, dtype: int64"
      ]
     },
     "execution_count": 35,
     "metadata": {},
     "output_type": "execute_result"
    }
   ],
   "source": [
    "y_train.value_counts()"
   ]
  },
  {
   "cell_type": "code",
   "execution_count": 36,
   "metadata": {
    "id": "_xc8n5qjuDxt"
   },
   "outputs": [],
   "source": [
    "# Оптимизатор\n",
    "optimizer = optim.Adam(model.parameters(), lr=LEARNING_RATE)\n",
    "\n",
    "# Функция потерь\n",
    "criterion = nn.CrossEntropyLoss()\n",
    "\n",
    "# Метрика\n",
    "accuracy = Accuracy(task='multiclass', num_classes=4)\n",
    "\n",
    "# softmax = nn.Softmax()"
   ]
  },
  {
   "cell_type": "markdown",
   "metadata": {
    "id": "8d5yY7W5uDxu"
   },
   "source": [
    "Создадим массивы, куда будем складывать значение целевой функции на обучающей и валиационной выборках, а также точность."
   ]
  },
  {
   "cell_type": "markdown",
   "metadata": {
    "id": "TlWyp6o9uDxu"
   },
   "source": [
    "Ниже представлен код __обучения__ сети. Нужно обратить внимание на несколько моментов:\n",
    "1. Обучение ведется в течение нескольких эпох -- что значит несколько проходов по выборке.\n",
    "2. `train_loader` позволяет итеративно проходится по выборке и на каждой итерации получать батч заранее заданного размера.\n",
    "3. На каждом шаге обнуляем градиенты `optimizer.zero_grad()`, чтобы не накапливать их, тем самым неккоректно обновлять веса.\n",
    "4. Вызывать явно `loss.backward()` для вычисления градиентов.\n",
    "5. Вызывать явно `optimizer.step()` для обновления весов."
   ]
  },
  {
   "cell_type": "code",
   "execution_count": 37,
   "metadata": {
    "id": "VAN_nBNsuDxu"
   },
   "outputs": [],
   "source": [
    "train_loss_values = []\n",
    "train_accuracy_values = []\n",
    "valid_loss_values = []\n",
    "valid_accuracy = []\n",
    "\n",
    "def run_train():\n",
    "    step = 0\n",
    "\n",
    "    # Epochs\n",
    "    for epoch in range(EPOCHS):\n",
    "        running_loss = []\n",
    "        running_acc = []\n",
    "        model.train()\n",
    "        for features, label in train_loader:\n",
    "            # Reset gradients\n",
    "            optimizer.zero_grad()\n",
    "\n",
    "            output = model(features)\n",
    "\n",
    "            # Calculate error and backpropagate\n",
    "            loss = criterion(output, label)\n",
    "            loss.backward()\n",
    "\n",
    "            # softmax_output = softmax(output)\n",
    "            acc = accuracy(output, label).item()\n",
    "\n",
    "            # Update weights with gradients\n",
    "            optimizer.step()\n",
    "\n",
    "            running_loss.append(loss.item())\n",
    "            running_acc.append(acc)\n",
    "\n",
    "            step += 1\n",
    "\n",
    "        train_loss_values.append(np.mean(running_loss))\n",
    "        train_accuracy_values.append(np.mean(running_acc))\n",
    "\n",
    "        if epoch % 20 == 0:\n",
    "            print(f'EPOCH {epoch}: train_loss: {train_loss_values[-1]} train_acc: {train_accuracy_values[-1]}')\n",
    "\n",
    "\n",
    "        # Run validation\n",
    "        running_loss = []\n",
    "        running_acc = []\n",
    "        model.eval()\n",
    "        for features, label in test_loader:\n",
    "            output = model(features)\n",
    "            # Calculate error and backpropagate\n",
    "            loss = criterion(output, label)\n",
    "            \n",
    "            # softmax_output = softmax(output)\n",
    "            acc = accuracy(output, label).item()\n",
    "\n",
    "            running_loss.append(loss.item())\n",
    "            running_acc.append(acc)\n",
    "\n",
    "        valid_loss_values.append(np.mean(running_loss))\n",
    "        valid_accuracy.append(np.mean(running_acc))\n",
    "\n",
    "        if epoch % 20 == 0:\n",
    "            print(f'EPOCH {epoch}: valid_loss: {valid_loss_values[-1]} valid_acc: {valid_accuracy[-1]}')\n",
    "\n",
    "    return train_loss_values, train_accuracy_values, valid_loss_values, valid_accuracy"
   ]
  },
  {
   "cell_type": "code",
   "execution_count": 38,
   "metadata": {
    "colab": {
     "base_uri": "https://localhost:8080/"
    },
    "id": "5tFwmXlNuDxu",
    "outputId": "c7a6afdd-0276-4316-b009-3e2ee4e674a2"
   },
   "outputs": [
    {
     "name": "stdout",
     "output_type": "stream",
     "text": [
      "EPOCH 0: train_loss: 1.3165238542216164 train_acc: 0.38816698569627034\n",
      "EPOCH 0: valid_loss: 1.2929647337822687 valid_acc: 0.40283345466568354\n",
      "EPOCH 20: train_loss: 1.1106024146789597 train_acc: 0.6206951531625929\n",
      "EPOCH 20: valid_loss: 1.1167954774129958 valid_acc: 0.6172558310486022\n",
      "EPOCH 40: train_loss: 1.2648978233337402 train_acc: 0.44101429641956374\n",
      "EPOCH 40: valid_loss: 1.2649763652256556 valid_acc: 0.44718780404045466\n",
      "EPOCH 60: train_loss: 1.1248279093276887 train_acc: 0.6101589073382673\n",
      "EPOCH 60: valid_loss: 1.1186019324121022 valid_acc: 0.6168838072390783\n",
      "EPOCH 80: train_loss: 1.1134991007191795 train_acc: 0.6209608845057941\n",
      "EPOCH 80: valid_loss: 1.1290444277581715 valid_acc: 0.600286990404129\n"
     ]
    }
   ],
   "source": [
    "train_loss_values, train_accuracy_values, valid_loss_values, valid_accuracy_values = run_train()"
   ]
  },
  {
   "cell_type": "markdown",
   "metadata": {
    "id": "4y7sK9j3uDxu"
   },
   "source": [
    " Посмотрим на динамику ошибки и значение точности нашей модели во времени."
   ]
  },
  {
   "cell_type": "code",
   "execution_count": 39,
   "metadata": {
    "colab": {
     "base_uri": "https://localhost:8080/",
     "height": 282
    },
    "id": "jQyHap8ruDxu",
    "outputId": "5b5f7135-1621-4830-e1e3-05293666c7b7"
   },
   "outputs": [
    {
     "data": {
      "image/png": "[encoded data removed]",
      "text/plain": [
       "<Figure size 1200x500 with 1 Axes>"
      ]
     },
     "metadata": {},
     "output_type": "display_data"
    }
   ],
   "source": [
    "fig, ax = plt.subplots(figsize=(12, 5))\n",
    "\n",
    "ax.plot(train_loss_values, label='train')\n",
    "ax.plot(valid_loss_values, label='valid')\n",
    "ax.legend()\n",
    "\n",
    "plt.show()"
   ]
  },
  {
   "cell_type": "code",
   "execution_count": 40,
   "metadata": {
    "colab": {
     "base_uri": "https://localhost:8080/",
     "height": 282
    },
    "id": "iM-ft7ReuDxu",
    "outputId": "e5b1f845-e7a3-4152-bb58-cf5cb0b8748b"
   },
   "outputs": [
    {
     "data": {
      "image/png": "[encoded data removed]",
      "text/plain": [
       "<Figure size 1200x500 with 1 Axes>"
      ]
     },
     "metadata": {},
     "output_type": "display_data"
    }
   ],
   "source": [
    "fig, ax = plt.subplots(figsize=(12, 5))\n",
    "\n",
    "ax.plot(train_accuracy_values, label='train')\n",
    "ax.plot(valid_accuracy_values, label='valid')\n",
    "ax.legend()\n",
    "\n",
    "plt.show()"
   ]
  },
  {
   "cell_type": "markdown",
   "metadata": {
    "id": "CSDJQcfEuDxv"
   },
   "source": [
    "Сохраним модель. Файл может иметь два расширения, как .pt, так и .pth. "
   ]
  },
  {
   "cell_type": "code",
   "execution_count": 41,
   "metadata": {
    "id": "bZseVomQuDxv"
   },
   "outputs": [],
   "source": [
    "torch.save(model, os.path.join(MODELS_PATH, 'simple_nn.pth'))"
   ]
  },
  {
   "cell_type": "markdown",
   "metadata": {
    "id": "Z_eIJ4pMuDxv"
   },
   "source": [
    "Теперь загрузим сохраненную модель и посмотрим на ее предсказания. Важно! Когда идет этап inference модели, то нужно явно вызвать `model.eval()`, так как в случае если есть droupout или batch norm, то они не дложны работать как в процессе обучения, иначе они продолжат обучаться. "
   ]
  },
  {
   "cell_type": "code",
   "execution_count": 42,
   "metadata": {
    "colab": {
     "base_uri": "https://localhost:8080/"
    },
    "id": "0-_mQNfZuDxv",
    "outputId": "6177ac39-716d-4a01-ed09-9d1191df4fa0"
   },
   "outputs": [
    {
     "data": {
      "text/plain": [
       "Sequential(\n",
       "  (0): Linear(in_features=37, out_features=25, bias=True)\n",
       "  (1): Sigmoid()\n",
       "  (2): Linear(in_features=25, out_features=25, bias=True)\n",
       "  (3): Sigmoid()\n",
       "  (4): Linear(in_features=25, out_features=4, bias=True)\n",
       "  (5): Softmax(dim=None)\n",
       ")"
      ]
     },
     "execution_count": 42,
     "metadata": {},
     "output_type": "execute_result"
    }
   ],
   "source": [
    "model = torch.load(os.path.join(MODELS_PATH, 'simple_nn.pth'))\n",
    "model.eval()"
   ]
  },
  {
   "cell_type": "code",
   "execution_count": 43,
   "metadata": {
    "colab": {
     "base_uri": "https://localhost:8080/"
    },
    "id": "ZNLXO4WtuDxv",
    "outputId": "359db49e-d740-4fb5-8277-a4e7e3be6ffc"
   },
   "outputs": [
    {
     "name": "stdout",
     "output_type": "stream",
     "text": [
      "0.6178451180458069\n",
      "[[9.9524033e-01 9.0578801e-08 1.9837096e-03 2.7758146e-03]\n",
      " [9.9559587e-01 8.5146155e-08 1.8841529e-03 2.5199051e-03]\n",
      " [7.0744716e-03 3.8012416e-07 2.4502065e-03 9.9047500e-01]\n",
      " ...\n",
      " [9.9565279e-01 8.4264194e-08 1.8680065e-03 2.4790964e-03]\n",
      " [9.9421531e-01 1.0560724e-07 2.2540230e-03 3.5306378e-03]\n",
      " [9.9565470e-01 8.4233498e-08 1.8673163e-03 2.4778226e-03]]\n"
     ]
    }
   ],
   "source": [
    "# Выход модели (вероятность) на тестовой выборке\n",
    "with torch.no_grad():\n",
    "    test_scores = model(torch.tensor(X_test.values.astype(np.float32)))\n",
    "print(accuracy(test_scores, torch.tensor(y_test.values.astype(np.int64))).item())\n",
    "print(test_scores.numpy())"
   ]
  },
  {
   "cell_type": "code",
   "execution_count": 44,
   "metadata": {
    "colab": {
     "base_uri": "https://localhost:8080/"
    },
    "id": "AzRB1z5BWQqZ",
    "outputId": "63a3132e-8874-40cb-8c22-3db86e0baf41"
   },
   "outputs": [
    {
     "data": {
      "text/plain": [
       "2.3810961487682487"
      ]
     },
     "execution_count": 44,
     "metadata": {},
     "output_type": "execute_result"
    }
   ],
   "source": [
    "log_loss(y_test, test_scores.numpy())"
   ]
  },
  {
   "cell_type": "code",
   "execution_count": 45,
   "metadata": {
    "colab": {
     "base_uri": "https://localhost:8080/"
    },
    "id": "OEY6upg1uDxv",
    "outputId": "f336ee5e-ff42-426e-c50c-0a320004f538"
   },
   "outputs": [
    {
     "name": "stdout",
     "output_type": "stream",
     "text": [
      "tensor([0, 0, 3,  ..., 0, 0, 0])\n",
      "0.6178\n"
     ]
    }
   ],
   "source": [
    "# Предсказание классов на тестовой выборке\n",
    "with torch.no_grad():\n",
    "    test_scores = model(torch.tensor(X_test.values.astype(np.float32)))\n",
    "predicted_classes = torch.argmax(test_scores, dim=1)\n",
    "print(predicted_classes)\n",
    "print(round(accuracy_score(y_test, predicted_classes), 4))"
   ]
  }
 ],
 "metadata": {
  "colab": {
   "collapsed_sections": [],
   "provenance": []
  },
  "kernelspec": {
   "display_name": "Python 3 (ipykernel)",
   "language": "python",
   "name": "python3"
  },
  "language_info": {
   "codemirror_mode": {
    "name": "ipython",
    "version": 3
   },
   "file_extension": ".py",
   "mimetype": "text/x-python",
   "name": "python",
   "nbconvert_exporter": "python",
   "pygments_lexer": "ipython3",
   "version": "3.11.4"
  }
 },
 "nbformat": 4,
 "nbformat_minor": 4
}
