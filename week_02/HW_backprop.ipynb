{
  "cells": [
    {
      "cell_type": "markdown",
      "metadata": {
        "id": "ScBmMfiT79w-"
      },
      "source": [
        "# Домашние задание"
      ]
    },
    {
      "cell_type": "markdown",
      "metadata": {
        "id": "2kJDrhqV79w-"
      },
      "source": [
        "1. Добавить Bias и посчитать для них градиенты.\n",
        "2. Сравнить градинеты с тем, как считает PyTorch AutoGrad."
      ]
    },
    {
      "cell_type": "code",
      "execution_count": null,
      "metadata": {
        "id": "RrSbkFzA79w_"
      },
      "outputs": [],
      "source": []
    }
  ],
  "metadata": {
    "kernelspec": {
      "display_name": "Python 3",
      "language": "python",
      "name": "python3"
    },
    "language_info": {
      "codemirror_mode": {
        "name": "ipython",
        "version": 3
      },
      "file_extension": ".py",
      "mimetype": "text/x-python",
      "name": "python",
      "nbconvert_exporter": "python",
      "pygments_lexer": "ipython3",
      "version": "3.6.6"
    },
    "colab": {
      "provenance": [],
      "collapsed_sections": []
    }
  },
  "nbformat": 4,
  "nbformat_minor": 0
}